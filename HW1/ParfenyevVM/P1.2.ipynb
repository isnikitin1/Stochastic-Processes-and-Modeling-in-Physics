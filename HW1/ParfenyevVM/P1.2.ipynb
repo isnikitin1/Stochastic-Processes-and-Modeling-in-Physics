{
 "cells": [
  {
   "cell_type": "code",
   "execution_count": 2,
   "metadata": {
    "ExecuteTime": {
     "end_time": "2021-11-10T21:08:49.009656Z",
     "start_time": "2021-11-10T21:08:45.380357Z"
    }
   },
   "outputs": [
    {
     "data": {
      "text/plain": [
       "3.138230601197043"
      ]
     },
     "execution_count": 2,
     "metadata": {},
     "output_type": "execute_result"
    }
   ],
   "source": [
    "import numpy as np\n",
    "import matplotlib.pyplot as plt\n",
    "m = 0\n",
    "n = 100000\n",
    "for i in range(n):\n",
    "    phi = np.random.random((3,1)) * 2 * np.pi\n",
    "    k = 2 * np.pi - (max(phi) - min(phi))\n",
    "    m += np.linalg.norm(k)\n",
    "m/n"
   ]
  }
 ],
 "metadata": {
  "kernelspec": {
   "display_name": "Python 3",
   "language": "python",
   "name": "python3"
  },
  "language_info": {
   "codemirror_mode": {
    "name": "ipython",
    "version": 3
   },
   "file_extension": ".py",
   "mimetype": "text/x-python",
   "name": "python",
   "nbconvert_exporter": "python",
   "pygments_lexer": "ipython3",
   "version": "3.8.5"
  },
  "toc": {
   "base_numbering": 1,
   "nav_menu": {},
   "number_sections": true,
   "sideBar": true,
   "skip_h1_title": false,
   "title_cell": "Table of Contents",
   "title_sidebar": "Contents",
   "toc_cell": false,
   "toc_position": {},
   "toc_section_display": true,
   "toc_window_display": false
  }
 },
 "nbformat": 4,
 "nbformat_minor": 4
}
