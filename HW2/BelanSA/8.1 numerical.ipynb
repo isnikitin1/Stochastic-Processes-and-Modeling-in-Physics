{
 "cells": [
  {
   "cell_type": "code",
   "execution_count": 1,
   "id": "searching-profession",
   "metadata": {},
   "outputs": [],
   "source": [
    "import numpy as np\n",
    "from numba import jit"
   ]
  },
  {
   "cell_type": "code",
   "execution_count": 57,
   "id": "inclusive-credit",
   "metadata": {},
   "outputs": [],
   "source": [
    "@jit(nopython = True)\n",
    "def brownian_motion(realizations = 100000, D = 1, L = 1, alpha = 1, dt = 1e-3, time = 10):\n",
    "    t = np.zeros(realizations)\n",
    "    steps = int(time / dt)\n",
    "    for realization in range(realizations):\n",
    "        x = np.zeros(steps + 1)\n",
    "        x[0] = L\n",
    "        for i in range(1, steps):\n",
    "            ksi = np.random.normal(0, 1)\n",
    "            x[i] = x[i-1] + np.sqrt(2*D*dt) * ksi\n",
    "            if (np.random.uniform(0,1) < alpha * dt) or (x[i] < 0):\n",
    "                t[realization] = dt * i\n",
    "                break\n",
    "    T_analytical = 1 / alpha * (1 - np.exp(- L * np.sqrt(alpha / D)))\n",
    "    T_numerical = t.mean()\n",
    "    return T_numerical, T_analytical"
   ]
  },
  {
   "cell_type": "code",
   "execution_count": 58,
   "id": "radio-progress",
   "metadata": {},
   "outputs": [
    {
     "data": {
      "text/plain": [
       "(0.6373313699999974, 0.6321205588285577)"
      ]
     },
     "execution_count": 58,
     "metadata": {},
     "output_type": "execute_result"
    }
   ],
   "source": [
    "brownian_motion(D = 1, L = 1, alpha = 1)"
   ]
  }
 ],
 "metadata": {
  "kernelspec": {
   "display_name": "Python 3",
   "language": "python",
   "name": "python3"
  },
  "language_info": {
   "codemirror_mode": {
    "name": "ipython",
    "version": 3
   },
   "file_extension": ".py",
   "mimetype": "text/x-python",
   "name": "python",
   "nbconvert_exporter": "python",
   "pygments_lexer": "ipython3",
   "version": "3.8.5"
  }
 },
 "nbformat": 4,
 "nbformat_minor": 5
}
