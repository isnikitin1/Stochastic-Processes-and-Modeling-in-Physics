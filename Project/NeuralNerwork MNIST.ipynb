{
 "cells": [
  {
   "cell_type": "code",
   "execution_count": 29,
   "id": "amended-observation",
   "metadata": {},
   "outputs": [],
   "source": [
    "import numpy as np\n",
    "import pandas as pd\n",
    "import matplotlib.pyplot as plt\n",
    "import seaborn as sns\n",
    "from tqdm import tqdm\n",
    "from sklearn.metrics import confusion_matrix, ConfusionMatrixDisplay"
   ]
  },
  {
   "cell_type": "code",
   "execution_count": 3,
   "id": "duplicate-brother",
   "metadata": {},
   "outputs": [],
   "source": [
    "%load_ext autoreload"
   ]
  },
  {
   "cell_type": "code",
   "execution_count": 4,
   "id": "conceptual-resident",
   "metadata": {},
   "outputs": [],
   "source": [
    "%autoreload 2\n",
    "\n",
    "from Network import *"
   ]
  },
  {
   "cell_type": "code",
   "execution_count": 4,
   "id": "excess-breeding",
   "metadata": {
    "scrolled": false
   },
   "outputs": [
    {
     "name": "stdout",
     "output_type": "stream",
     "text": [
      "Extracting train-images-idx3-ubyte.gz\n",
      "Extracting train-labels-idx1-ubyte.gz\n"
     ]
    },
    {
     "name": "stderr",
     "output_type": "stream",
     "text": [
      "\r",
      "  0%|                                                                                         | 0/1563 [00:00<?, ?it/s]"
     ]
    },
    {
     "name": "stdout",
     "output_type": "stream",
     "text": [
      "LR:0.01, Batch Size:32\n"
     ]
    },
    {
     "name": "stderr",
     "output_type": "stream",
     "text": [
      "Cost: 0.00: 100%|████████████████████████████████████████████████████████████████| 1563/1563 [2:49:00<00:00,  6.49s/it]\n",
      "Cost: 0.06: 100%|████████████████████████████████████████████████████████████████| 1563/1563 [2:38:48<00:00,  6.10s/it]\n",
      "Cost: 0.00: 100%|████████████████████████████████████████████████████████████████| 1563/1563 [2:38:23<00:00,  6.08s/it]\n"
     ]
    }
   ],
   "source": [
    "cost = train(save_path = 'params')"
   ]
  },
  {
   "cell_type": "code",
   "execution_count": 32,
   "id": "historic-briefing",
   "metadata": {},
   "outputs": [
    {
     "name": "stderr",
     "output_type": "stream",
     "text": [
      "\r",
      "  0%|                                                                                        | 0/10000 [00:00<?, ?it/s]"
     ]
    },
    {
     "name": "stdout",
     "output_type": "stream",
     "text": [
      "Extracting t10k-images-idx3-ubyte.gz\n",
      "Extracting t10k-labels-idx1-ubyte.gz\n"
     ]
    },
    {
     "name": "stderr",
     "output_type": "stream",
     "text": [
      "Acc:98.42%: 100%|████████████████████████████████████████████████████████████████| 10000/10000 [14:28<00:00, 11.51it/s]"
     ]
    },
    {
     "name": "stdout",
     "output_type": "stream",
     "text": [
      "Overall Accuracy: 98.42\n"
     ]
    },
    {
     "name": "stderr",
     "output_type": "stream",
     "text": [
      "\n"
     ]
    }
   ],
   "source": [
    "params = pickle.load(open('params', 'rb'))\n",
    "[f1, f2, w3, w4, b1, b2, b3, b4] = params\n",
    "\n",
    "X = extract_data('t10k-images-idx3-ubyte.gz', 10000, 28)\n",
    "y_dash = extract_labels('t10k-labels-idx1-ubyte.gz', 10000).reshape(10000,1)\n",
    "X-= int(np.mean(X)) \n",
    "X/= int(np.std(X)) \n",
    "test_data = np.hstack((X,y_dash))\n",
    "\n",
    "X = test_data[:,0:-1]\n",
    "X = X.reshape(len(test_data), 1, 28, 28)\n",
    "y = test_data[:,-1]\n",
    "\n",
    "c = 0\n",
    "digit_count = [0 for i in range(10)]\n",
    "digit_correct = [0 for i in range(10)]\n",
    "\n",
    "t = tqdm(range(len(X)), leave=True)\n",
    "\n",
    "predictions = np.zeros(len(X))\n",
    "for i in t:\n",
    "    x = X[i]\n",
    "    pred, prob = predict(x, f1, f2, w3, w4, b1, b2, b3, b4)\n",
    "    digit_count[int(y[i])]+=1\n",
    "    predictions[i] = pred\n",
    "    if pred==y[i]:\n",
    "        c+=1\n",
    "        digit_correct[pred]+=1\n",
    "\n",
    "    t.set_description(\"Acc:%0.2f%%\" % (float(c/(i+1))*100))\n",
    "        \n",
    "print(\"Overall Accuracy: %.2f\" % (float(c/len(test_data)*100)))"
   ]
  },
  {
   "cell_type": "code",
   "execution_count": 19,
   "id": "complimentary-writer",
   "metadata": {},
   "outputs": [
    {
     "data": {
      "image/png": "[encoded data removed]",
      "text/plain": [
       "<Figure size 864x504 with 1 Axes>"
      ]
     },
     "metadata": {
      "needs_background": "light"
     },
     "output_type": "display_data"
    }
   ],
   "source": [
    "x = np.arange(10)\n",
    "digit_recall = [x / y for x,y in zip(digit_correct, digit_count)]\n",
    "plt.figure(figsize = (12,7))\n",
    "plt.xlabel('Digits')\n",
    "plt.ylabel('Recall')\n",
    "plt.ylim(0.92, 1)\n",
    "plt.xticks(x)\n",
    "plt.bar(x,digit_recall)\n",
    "plt.show()"
   ]
  },
  {
   "cell_type": "code",
   "execution_count": 34,
   "id": "respected-jersey",
   "metadata": {},
   "outputs": [
    {
     "data": {
      "text/plain": [
       "<Figure size 1080x576 with 0 Axes>"
      ]
     },
     "metadata": {},
     "output_type": "display_data"
    },
    {
     "data": {
      "image/png": "[encoded data removed]",
      "text/plain": [
       "<Figure size 432x288 with 2 Axes>"
      ]
     },
     "metadata": {
      "needs_background": "light"
     },
     "output_type": "display_data"
    }
   ],
   "source": [
    "cm = confusion_matrix(y, predictions)\n",
    "disp = ConfusionMatrixDisplay(confusion_matrix=cm)\n",
    "disp.plot()\n",
    "plt.show()"
   ]
  }
 ],
 "metadata": {
  "kernelspec": {
   "display_name": "Python 3",
   "language": "python",
   "name": "python3"
  },
  "language_info": {
   "codemirror_mode": {
    "name": "ipython",
    "version": 3
   },
   "file_extension": ".py",
   "mimetype": "text/x-python",
   "name": "python",
   "nbconvert_exporter": "python",
   "pygments_lexer": "ipython3",
   "version": "3.8.5"
  }
 },
 "nbformat": 4,
 "nbformat_minor": 5
}
