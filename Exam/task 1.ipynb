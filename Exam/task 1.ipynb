{
 "cells": [
  {
   "cell_type": "code",
   "execution_count": 1,
   "id": "cooked-alias",
   "metadata": {},
   "outputs": [],
   "source": [
    "import numpy as np"
   ]
  },
  {
   "cell_type": "code",
   "execution_count": 26,
   "id": "skilled-sullivan",
   "metadata": {},
   "outputs": [],
   "source": [
    "k = 0\n",
    "k_max = 100000\n",
    "b = np.zeros(k_max)\n",
    "a = []\n",
    "while True:\n",
    "    x = np.random.randint(1,7)\n",
    "    if x % 2 == 0: \n",
    "        a.append(x)\n",
    "        if a[-1] == 6:\n",
    "            b[k] = len(a)\n",
    "            a = []\n",
    "            k+=1\n",
    "        if k == k_max:\n",
    "            break\n",
    "    else:\n",
    "        a = []"
   ]
  },
  {
   "cell_type": "code",
   "execution_count": 27,
   "id": "turkish-headset",
   "metadata": {},
   "outputs": [
    {
     "data": {
      "text/plain": [
       "1.50351"
      ]
     },
     "execution_count": 27,
     "metadata": {},
     "output_type": "execute_result"
    }
   ],
   "source": [
    "b.mean()"
   ]
  },
  {
   "cell_type": "code",
   "execution_count": null,
   "id": "employed-irrigation",
   "metadata": {},
   "outputs": [],
   "source": []
  }
 ],
 "metadata": {
  "kernelspec": {
   "display_name": "Python 3",
   "language": "python",
   "name": "python3"
  },
  "language_info": {
   "codemirror_mode": {
    "name": "ipython",
    "version": 3
   },
   "file_extension": ".py",
   "mimetype": "text/x-python",
   "name": "python",
   "nbconvert_exporter": "python",
   "pygments_lexer": "ipython3",
   "version": "3.8.5"
  }
 },
 "nbformat": 4,
 "nbformat_minor": 5
}
